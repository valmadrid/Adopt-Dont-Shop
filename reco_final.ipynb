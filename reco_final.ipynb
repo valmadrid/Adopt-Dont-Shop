{
 "cells": [
  {
   "cell_type": "markdown",
   "metadata": {},
   "source": [
    "# Introduction"
   ]
  },
  {
   "cell_type": "code",
   "execution_count": null,
   "metadata": {},
   "outputs": [],
   "source": []
  },
  {
   "cell_type": "markdown",
   "metadata": {},
   "source": [
    "# Libraries and Modules"
   ]
  },
  {
   "cell_type": "code",
   "execution_count": 6,
   "metadata": {
    "scrolled": true
   },
   "outputs": [],
   "source": [
    "import warnings\n",
    "warnings.filterwarnings(\"ignore\")\n",
    "\n",
    "import pandas as pd\n",
    "pd.set_option(\"display.max_columns\", None)\n",
    "pd.set_option('display.max_colwidth', -1)\n",
    "import numpy as np\n",
    "import itertools\n",
    "\n",
    "%matplotlib inline\n",
    "import seaborn as sns\n",
    "import matplotlib.pyplot as plt\n",
    "sns.set_style(\"dark\")\n",
    "sns.set_context(\"paper\", font_scale=1.5)\n",
    "sns.set_palette(\"GnBu_d\")\n",
    "\n",
    "import os, shutil\n",
    "import cv2\n",
    "import pytesseract\n",
    "from PIL import Image\n",
    "from scipy import ndimage\n",
    "import swifter\n",
    "from IPython.display import Image\n",
    "import pydotplus\n",
    "import pickle\n",
    "\n",
    "from ipywidgets import interact, interactive, fixed, interact_manual\n",
    "import ipywidgets as widgets"
   ]
  },
  {
   "cell_type": "code",
   "execution_count": null,
   "metadata": {},
   "outputs": [],
   "source": [
    "# import tensorflow as tf\n",
    "# from keras import Model\n",
    "# from keras.applications.resnet50 import ResNet50\n",
    "# from keras.preprocessing import image\n",
    "# from keras.applications.resnet50 import preprocess_input, decode_predictions\n",
    "# from keras.layers import GlobalMaxPooling2D\n",
    "# from keras.preprocessing.image import ImageDataGenerator, array_to_img, img_to_array, load_img\n",
    "# from sklearn.metrics.pairwise import pairwise_distances\n",
    "# from keras import models"
   ]
  },
  {
   "cell_type": "markdown",
   "metadata": {},
   "source": [
    "## Py files"
   ]
  },
  {
   "cell_type": "code",
   "execution_count": 1,
   "metadata": {},
   "outputs": [],
   "source": [
    "import preprocess as pre\n",
    "# import images\n",
    "import recommendation as reco\n",
    "%reload_ext autoreload\n",
    "%autoreload 2"
   ]
  },
  {
   "cell_type": "code",
   "execution_count": 5,
   "metadata": {
    "scrolled": true
   },
   "outputs": [
    {
     "name": "stdout",
     "output_type": "stream",
     "text": [
      "/Users/valmadrid/DataScienceBootcamp/Projects/Final Project/Predicting-PetFinder-Adoption-Rate\r\n"
     ]
    }
   ],
   "source": [
    "!pwd"
   ]
  },
  {
   "cell_type": "markdown",
   "metadata": {},
   "source": [
    "# Pre-processing"
   ]
  },
  {
   "cell_type": "code",
   "execution_count": 3,
   "metadata": {
    "scrolled": false
   },
   "outputs": [
    {
     "data": {
      "text/plain": [
       "pet_id                      0    \n",
       "type                        0    \n",
       "name                        1197 \n",
       "age                         0    \n",
       "breed1                      0    \n",
       "breed1_desc                 4    \n",
       "breed2                      0    \n",
       "breed2_desc                 10519\n",
       "gender                      0    \n",
       "color1                      0    \n",
       "color1_desc                 0    \n",
       "color2                      0    \n",
       "color2_desc                 4340 \n",
       "color3                      0    \n",
       "color3_desc                 10376\n",
       "maturity_size               0    \n",
       "fur_length                  0    \n",
       "vaccinated                  0    \n",
       "dewormed                    0    \n",
       "sterilized                  0    \n",
       "health                      0    \n",
       "quantity                    0    \n",
       "fee                         0    \n",
       "state                       0    \n",
       "state_desc                  0    \n",
       "rescuer_id                  0    \n",
       "video_count                 0    \n",
       "photo_count                 0    \n",
       "filename                    0    \n",
       "description                 11   \n",
       "desc_score                  541  \n",
       "desc_magnitude              541  \n",
       "desc_sentences_score_sum    541  \n",
       "desc_sentences_score_avg    541  \n",
       "dtype: int64"
      ]
     },
     "execution_count": 3,
     "metadata": {},
     "output_type": "execute_result"
    }
   ],
   "source": [
    "pets = pd.read_csv(\"pets.csv\")\n",
    "pets.dropna(axis=0, subset=[\"filename\"], inplace=True)\n",
    "pets = pre.drop_columns(pets, [\"adoption_speed\"])\n",
    "pets.isna().sum()"
   ]
  },
  {
   "cell_type": "code",
   "execution_count": 4,
   "metadata": {},
   "outputs": [
    {
     "name": "stdout",
     "output_type": "stream",
     "text": [
      "<class 'pandas.core.frame.DataFrame'>\n",
      "Int64Index: 14652 entries, 0 to 14992\n",
      "Data columns (total 34 columns):\n",
      "pet_id                      14652 non-null object\n",
      "type                        14652 non-null int64\n",
      "name                        14652 non-null object\n",
      "age                         14652 non-null int64\n",
      "breed1                      14652 non-null int64\n",
      "breed1_desc                 14652 non-null object\n",
      "breed2                      14652 non-null int64\n",
      "breed2_desc                 14652 non-null object\n",
      "gender                      14652 non-null int64\n",
      "color1                      14652 non-null int64\n",
      "color1_desc                 14652 non-null object\n",
      "color2                      14652 non-null int64\n",
      "color2_desc                 14652 non-null object\n",
      "color3                      14652 non-null int64\n",
      "color3_desc                 14652 non-null object\n",
      "maturity_size               14652 non-null int64\n",
      "fur_length                  14652 non-null int64\n",
      "vaccinated                  14652 non-null int64\n",
      "dewormed                    14652 non-null int64\n",
      "sterilized                  14652 non-null int64\n",
      "health                      14652 non-null int64\n",
      "quantity                    14652 non-null int64\n",
      "fee                         14652 non-null int64\n",
      "state                       14652 non-null int64\n",
      "state_desc                  14652 non-null object\n",
      "rescuer_id                  14652 non-null object\n",
      "video_count                 14652 non-null int64\n",
      "photo_count                 14652 non-null float64\n",
      "filename                    14652 non-null object\n",
      "description                 14652 non-null object\n",
      "desc_score                  14652 non-null object\n",
      "desc_magnitude              14652 non-null object\n",
      "desc_sentences_score_sum    14652 non-null object\n",
      "desc_sentences_score_avg    14652 non-null object\n",
      "dtypes: float64(1), int64(18), object(15)\n",
      "memory usage: 3.9+ MB\n"
     ]
    }
   ],
   "source": [
    "pets.fillna(\"\", inplace=True)\n",
    "pets.info()"
   ]
  },
  {
   "cell_type": "code",
   "execution_count": 34,
   "metadata": {},
   "outputs": [
    {
     "data": {
      "image/jpeg": "[encoded data removed]",
      "text/plain": [
       "<IPython.core.display.Image object>"
      ]
     },
     "metadata": {},
     "output_type": "display_data"
    },
    {
     "data": {
      "image/jpeg": "[encoded data removed]",
      "text/plain": [
       "<IPython.core.display.Image object>"
      ]
     },
     "metadata": {},
     "output_type": "display_data"
    },
    {
     "data": {
      "image/jpeg": "[encoded data removed]",
      "text/plain": [
       "<IPython.core.display.Image object>"
      ]
     },
     "metadata": {},
     "output_type": "display_data"
    }
   ],
   "source": [
    "images_folder_path = \"dataset/petfinder-adoption-prediction/train_images/\"\n",
    "for i in range(3):\n",
    "    j = list(pets.index)[np.random.randint(low=0, high=pets.shape[0])]\n",
    "    pre.get_image(images_folder_path, pets.filename[j])"
   ]
  },
  {
   "cell_type": "code",
   "execution_count": 5,
   "metadata": {},
   "outputs": [],
   "source": [
    "dogs = pets.query(\"type==1\")\n",
    "cats = pets.query(\"type==2\")\n",
    "\n",
    "# pickle.dump(dogs, open(\"df_dogs.pkl\", \"wb\"))\n",
    "# pickle.dump(cats, open(\"df_cats.pkl\", \"wb\"))"
   ]
  },
  {
   "cell_type": "markdown",
   "metadata": {},
   "source": [
    "# Resnet50"
   ]
  },
  {
   "cell_type": "code",
   "execution_count": 24,
   "metadata": {
    "scrolled": true
   },
   "outputs": [
    {
     "name": "stdout",
     "output_type": "stream",
     "text": [
      "_________________________________________________________________\n",
      "Layer (type)                 Output Shape              Param #   \n",
      "=================================================================\n",
      "resnet50 (Model)             (None, 7, 7, 2048)        23587712  \n",
      "_________________________________________________________________\n",
      "global_max_pooling2d_1 (Glob (None, 2048)              0         \n",
      "=================================================================\n",
      "Total params: 23,587,712\n",
      "Trainable params: 0\n",
      "Non-trainable params: 23,587,712\n",
      "_________________________________________________________________\n"
     ]
    }
   ],
   "source": [
    "base_model = ResNet50(weights='imagenet',\n",
    "                      include_top=False,\n",
    "                      input_shape=(224, 224, 3))\n",
    "base_model.trainable = False\n",
    "model = models.Sequential([base_model, GlobalMaxPooling2D()])\n",
    "model.summary()\n",
    "# pickle.dump(model, open(\"image_reco.pkl\", \"wb\"))"
   ]
  },
  {
   "cell_type": "code",
   "execution_count": 43,
   "metadata": {},
   "outputs": [],
   "source": [
    "i = np.random.randint(low=0, high=pets.shape[0])\n",
    "display(images.get_embedding(model, pets.filename.loc[i],images_folder_path))"
   ]
  },
  {
   "cell_type": "code",
   "execution_count": 45,
   "metadata": {},
   "outputs": [],
   "source": [
    "plt.imshow(cv2.cvtColor(images.load_image(pets, i, images_folder_path), cv2.COLOR_BGR2RGB));"
   ]
  },
  {
   "cell_type": "code",
   "execution_count": null,
   "metadata": {},
   "outputs": [],
   "source": []
  },
  {
   "cell_type": "code",
   "execution_count": null,
   "metadata": {},
   "outputs": [],
   "source": [
    "map_embeddings_dogs = dogs.filename.swifter.apply(lambda img: get_embedding(model, img,images_folder_path))\n",
    "data_embs_dogs = map_embeddings_dogs.apply(pd.Series)\n",
    "map_embeddings_cats = cats.filename.swifter.apply(lambda img: get_embedding(model, img,images_folder_path))\n",
    "data_embs_cats = map_embeddings_cats.apply(pd.Series)"
   ]
  },
  {
   "cell_type": "code",
   "execution_count": null,
   "metadata": {},
   "outputs": [],
   "source": [
    "to_include = [\"type\", \"gender\", \"breed1\", \"breed2\", \"color1\", \"color2\", \"color3\", \"state\"]\n",
    "df_data_embs_dogs = pd.concat([data_embs_dogs, dogs[to_include]], axis=1)\n",
    "df_data_embs_cats = pd.concat([data_embs_cats, cats[to_include]], axis=1)\n",
    "df_cosine_dogs = 1-pairwise_distances(df_data_embs_dogs, metric='cosine')\n",
    "df_cosine_cats = 1-pairwise_distances(df_data_embs_cats, metric='cosine')\n",
    "# pickle.dump(df_cosine_dogs, open(\"df_cosine_dogs.pkl\", \"wb\"))\n",
    "# pickle.dump(df_cosine_cats, open(\"df_cosine_cats.pkl\", \"wb\"))"
   ]
  },
  {
   "cell_type": "markdown",
   "metadata": {},
   "source": [
    "# Test Model"
   ]
  },
  {
   "cell_type": "code",
   "execution_count": 91,
   "metadata": {
    "scrolled": false
   },
   "outputs": [],
   "source": [
    "# random = np.random.randint(low=0, high=len(pets))\n",
    "# reco.get_reco(list(pets.index)[random], pets, 2)"
   ]
  },
  {
   "cell_type": "code",
   "execution_count": 8,
   "metadata": {
    "scrolled": true
   },
   "outputs": [
    {
     "data": {
      "application/vnd.jupyter.widget-view+json": {
       "model_id": "5fdec1fe371b4e568f1be0f080ec60fd",
       "version_major": 2,
       "version_minor": 0
      },
      "text/plain": [
       "interactive(children=(IntSlider(value=0, description='i', max=14652), IntSlider(value=2, description='top', ma…"
      ]
     },
     "metadata": {},
     "output_type": "display_data"
    },
    {
     "data": {
      "text/plain": [
       "<function recommendation.get_reco(i, df, top=2)>"
      ]
     },
     "execution_count": 8,
     "metadata": {},
     "output_type": "execute_result"
    }
   ],
   "source": [
    "interact(reco.get_reco,\n",
    "         i=widgets.IntSlider(min=0, max=len(pets), step=1),\n",
    "         df=fixed(pets),\n",
    "         top=widgets.IntSlider(min=1, max=4, step=1, value=2))"
   ]
  },
  {
   "cell_type": "code",
   "execution_count": 18,
   "metadata": {
    "scrolled": true
   },
   "outputs": [
    {
     "data": {
      "application/vnd.jupyter.widget-view+json": {
       "model_id": "4cb564003d5d44d780af1d00c7501b08",
       "version_major": 2,
       "version_minor": 0
      },
      "text/plain": [
       "Label(value='Select the pet to view:')"
      ]
     },
     "metadata": {},
     "output_type": "display_data"
    },
    {
     "data": {
      "application/vnd.jupyter.widget-view+json": {
       "model_id": "42d08951ff164db9b2430748935ffe3a",
       "version_major": 2,
       "version_minor": 0
      },
      "text/plain": [
       "interactive(children=(IntSlider(value=4, description='Index', max=14652), IntSlider(value=4, description='Top'…"
      ]
     },
     "metadata": {},
     "output_type": "display_data"
    },
    {
     "data": {
      "text/plain": [
       "<function recommendation.get_reco(i, df, top=2)>"
      ]
     },
     "execution_count": 18,
     "metadata": {},
     "output_type": "execute_result"
    }
   ],
   "source": [
    "caption = widgets.Label(value=\"Select the pet to view:\")\n",
    "idx, top = widgets.IntSlider(min=0,\n",
    "                             max=len(pets),\n",
    "                             step=1,\n",
    "                             value=4,\n",
    "                             description='Index'), widgets.IntSlider(\n",
    "                                 min=1,\n",
    "                                 max=4,\n",
    "                                 step=1,\n",
    "                                 value=2,\n",
    "                                 description='Top')\n",
    "dl = widgets.dlink((idx, 'value'), (top, 'value'))\n",
    "display(caption)\n",
    "interact(reco.get_reco, i=idx, df=fixed(pets), top=top)"
   ]
  },
  {
   "cell_type": "code",
   "execution_count": null,
   "metadata": {},
   "outputs": [],
   "source": []
  }
 ],
 "metadata": {
  "kernelspec": {
   "display_name": "Python [conda env:learn-env] *",
   "language": "python",
   "name": "conda-env-learn-env-py"
  },
  "language_info": {
   "codemirror_mode": {
    "name": "ipython",
    "version": 3
   },
   "file_extension": ".py",
   "mimetype": "text/x-python",
   "name": "python",
   "nbconvert_exporter": "python",
   "pygments_lexer": "ipython3",
   "version": "3.6.9"
  },
  "toc": {
   "base_numbering": 1,
   "nav_menu": {},
   "number_sections": false,
   "sideBar": true,
   "skip_h1_title": false,
   "title_cell": "Table of Contents",
   "title_sidebar": "Contents",
   "toc_cell": false,
   "toc_position": {
    "height": "calc(100% - 180px)",
    "left": "10px",
    "top": "150px",
    "width": "336px"
   },
   "toc_section_display": true,
   "toc_window_display": true
  },
  "varInspector": {
   "cols": {
    "lenName": 16,
    "lenType": 16,
    "lenVar": 40
   },
   "kernels_config": {
    "python": {
     "delete_cmd_postfix": "",
     "delete_cmd_prefix": "del ",
     "library": "var_list.py",
     "varRefreshCmd": "print(var_dic_list())"
    },
    "r": {
     "delete_cmd_postfix": ") ",
     "delete_cmd_prefix": "rm(",
     "library": "var_list.r",
     "varRefreshCmd": "cat(var_dic_list()) "
    }
   },
   "types_to_exclude": [
    "module",
    "function",
    "builtin_function_or_method",
    "instance",
    "_Feature"
   ],
   "window_display": false
  }
 },
 "nbformat": 4,
 "nbformat_minor": 2
}
